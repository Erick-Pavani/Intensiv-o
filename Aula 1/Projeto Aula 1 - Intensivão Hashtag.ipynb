{
 "cells": [
  {
   "cell_type": "markdown",
   "id": "333b1268",
   "metadata": {},
   "source": [
    "Aula 1 - Intensivão de Python Hashtag\n",
    "\n",
    "    Situação\n",
    "        Abrir o navegador, pegar um arquivo excel dos dados da empresa no google drive, fazer o cálculo do faturamento e                 quantidade de produtos vendidos no dia anterior e enviar um email à diretoria com esses cálculos.\n",
    "        "
   ]
  },
  {
   "cell_type": "markdown",
   "id": "ddcab8f8",
   "metadata": {},
   "source": [
    "Passo 1: Minimizar tudo (pra simular um script diário) e abrir o navegador (chrome)"
   ]
  },
  {
   "cell_type": "code",
   "execution_count": 18,
   "id": "2f0245b7",
   "metadata": {},
   "outputs": [],
   "source": [
    "# Importando as bibliotecas que serão usadas\n",
    "\n",
    "import pyautogui\n",
    "import pyperclip\n",
    "import time\n",
    "import pandas as pd\n",
    "import os"
   ]
  },
  {
   "cell_type": "code",
   "execution_count": 19,
   "id": "329f8054",
   "metadata": {},
   "outputs": [],
   "source": [
    "# Adiciona uma pausa entre cada comando\n",
    "\n",
    "pyautogui.PAUSE = 1\n",
    "\n",
    "# Comandos\n",
    "\n",
    "pyautogui.hotkey(\"win\",\"d\")\n",
    "AvisoInicio = \"O processo de automação será iniciado agora. Aperte ok e não mexa mais no teclado até que o processo seja finalizado!\"\n",
    "pyautogui.alert(AvisoInicio)\n",
    "pyautogui.press(\"win\")\n",
    "pyautogui.write(\"Chrome\")\n",
    "pyautogui.press(\"enter\")\n",
    "pyautogui.hotkey(\"win\", \"up\")\n",
    "pyperclip.copy(\"https://drive.google.com/drive/folders/14oLE59U1RqyRqlBbKpsyymW-mitvbtoh?usp=sharing\")\n",
    "pyautogui.hotkey(\"ctrl\", \"v\")\n",
    "pyautogui.press(\"enter\")\n",
    "time.sleep (5)\n",
    "pyautogui.click(x=421, y=366, button = 'right')\n",
    "pyautogui.click(x=639, y=951)\n",
    "time.sleep(5)\n",
    "pyautogui.press(\"enter\")\n",
    "pyautogui.hotkey(\"ctrl\", \"j\")\n",
    "pyautogui.click(x=1358, y=311)\n",
    "pyautogui.hotkey(\"ctrl\", \"w\")"
   ]
  },
  {
   "cell_type": "markdown",
   "id": "e15aab33",
   "metadata": {},
   "source": [
    "Analisar o arquivo Excel com a biblioteca Pandas (pd)"
   ]
  },
  {
   "cell_type": "code",
   "execution_count": 20,
   "id": "b3c4bde1",
   "metadata": {},
   "outputs": [],
   "source": [
    "tabela = pd.read_excel(r\"C:\\Users\\erick\\Downloads\\Python Testes\\Vendas - Dez.xlsx\")\n",
    "print(tabela)\n",
    "\n",
    "Faturamento = tabela[\"Valor Final\"].sum()\n",
    "qtde_Produtos = tabela[\"Quantidade\"].sum()"
   ]
  },
  {
   "cell_type": "markdown",
   "id": "8b643ec9",
   "metadata": {},
   "source": [
    "Enviar o email"
   ]
  },
  {
   "cell_type": "code",
   "execution_count": 21,
   "id": "031afe4c",
   "metadata": {},
   "outputs": [
    {
     "data": {
      "text/plain": [
       "'OK'"
      ]
     },
     "execution_count": 21,
     "metadata": {},
     "output_type": "execute_result"
    }
   ],
   "source": [
    "pyautogui.hotkey(\"ctrl\", \"t\")\n",
    "pyperclip.copy(\"gmail.com\")\n",
    "pyautogui.hotkey(\"ctrl\", \"v\")\n",
    "pyautogui.press(\"enter\")\n",
    "time.sleep(5)\n",
    "pyautogui.click(x=100, y=254)\n",
    "pyperclip.copy(\"erickspavanii@gmail.com\")\n",
    "pyautogui.hotkey(\"ctrl\", \"v\")\n",
    "time.sleep(2)\n",
    "pyautogui.press(\"tab\")\n",
    "time.sleep(1)\n",
    "pyperclip.copy(\"Teste aula 1 - Python\")\n",
    "pyautogui.hotkey(\"ctrl\", \"v\")\n",
    "time.sleep(2)\n",
    "pyautogui.press(\"tab\")\n",
    "texto = f\"\"\" Prezados, bom dia!\n",
    "\n",
    "             Venho informar que o faturamento do dia de ontem foi de: {Faturamento:,.2f},  \n",
    "             e a quantidade de produtos vendidos foi de: {qtde_Produtos:,}\n",
    "             \n",
    "             Att. Erick (TI)\n",
    "             \"\"\"\n",
    "pyperclip.copy(texto)\n",
    "time.sleep(1)\n",
    "pyautogui.hotkey(\"ctrl\", \"v\")\n",
    "time.sleep(1)\n",
    "pyautogui.hotkey(\"ctrl\", \"enter\")\n",
    "time.sleep (3)\n",
    "pyautogui.hotkey(\"ctrl\", \"w\")\n",
    "pyautogui.hotkey(\"ctrl\", \"w\")\n",
    "try:\n",
    "    os.remove(r\"C:\\Users\\erick\\Downloads\\Python Testes\\Vendas - Dez.xlsx\")\n",
    "except OSError as e:\n",
    "    print(f\"Error:{ e.strerror}\")\n",
    "AvisoFim = \"Processo finalizado, tudo correu bem! Pode usar o computador normalmente a partir de agora!\"\n",
    "pyautogui.alert(AvisoFim)"
   ]
  },
  {
   "cell_type": "markdown",
   "id": "26297bb1",
   "metadata": {},
   "source": [
    "Teste da posição do mouse pra aplicar no script:"
   ]
  },
  {
   "cell_type": "code",
   "execution_count": 22,
   "id": "c8c2c706",
   "metadata": {},
   "outputs": [],
   "source": [
    "#time.sleep(5)\n",
    "#pyautogui.position()\n"
   ]
  }
 ],
 "metadata": {
  "kernelspec": {
   "display_name": "Python 3 (ipykernel)",
   "language": "python",
   "name": "python3"
  },
  "language_info": {
   "codemirror_mode": {
    "name": "ipython",
    "version": 3
   },
   "file_extension": ".py",
   "mimetype": "text/x-python",
   "name": "python",
   "nbconvert_exporter": "python",
   "pygments_lexer": "ipython3",
   "version": "3.9.7"
  }
 },
 "nbformat": 4,
 "nbformat_minor": 5
}
